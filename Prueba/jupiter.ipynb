{
 "cells": [
  {
   "cell_type": "code",
   "execution_count": 1,
   "metadata": {},
   "outputs": [
    {
     "name": "stdout",
     "output_type": "stream",
     "text": [
      "hola\n"
     ]
    }
   ],
   "source": [
    "print(\"hola\")"
   ]
  },
  {
   "cell_type": "code",
   "execution_count": 2,
   "metadata": {},
   "outputs": [
    {
     "name": "stdout",
     "output_type": "stream",
     "text": [
      "Selecciona una operación:\n",
      "1. Suma\n",
      "2. Resta\n",
      "3. Multiplicación\n",
      "4. División\n",
      "7.0 - 3.0 = 4.0\n"
     ]
    }
   ],
   "source": [
    "def suma(a, b):\n",
    "    return a + b\n",
    "\n",
    "def resta(a, b):\n",
    "    return a - b\n",
    "\n",
    "def multiplicacion(a, b):\n",
    "    return a * b\n",
    "\n",
    "def division(a, b):\n",
    "    if b == 0:\n",
    "        return \"Error: División por cero no permitida\"\n",
    "    return a / b\n",
    "\n",
    "def calculadora():\n",
    "    print(\"Selecciona una operación:\")\n",
    "    print(\"1. Suma\")\n",
    "    print(\"2. Resta\")\n",
    "    print(\"3. Multiplicación\")\n",
    "    print(\"4. División\")\n",
    "\n",
    "    opcion = input(\"Ingresa tu opción (1/2/3/4): \")\n",
    "\n",
    "    if opcion in ['1', '2', '3', '4']:\n",
    "        num1 = float(input(\"Ingresa el primer número: \"))\n",
    "        num2 = float(input(\"Ingresa el segundo número: \"))\n",
    "\n",
    "        if opcion == '1':\n",
    "            print(f\"{num1} + {num2} = {suma(num1, num2)}\")\n",
    "\n",
    "        elif opcion == '2':\n",
    "            print(f\"{num1} - {num2} = {resta(num1, num2)}\")\n",
    "\n",
    "        elif opcion == '3':\n",
    "            print(f\"{num1} * {num2} = {multiplicacion(num1, num2)}\")\n",
    "\n",
    "        elif opcion == '4':\n",
    "            resultado = division(num1, num2)\n",
    "            print(f\"{num1} / {num2} = {resultado}\")\n",
    "\n",
    "    else:\n",
    "        print(\"Opción no válida\")\n",
    "\n",
    "# Ejecutar la calculadora\n",
    "calculadora()"
   ]
  }
 ],
 "metadata": {
  "kernelspec": {
   "display_name": "Python 3",
   "language": "python",
   "name": "python3"
  },
  "language_info": {
   "codemirror_mode": {
    "name": "ipython",
    "version": 3
   },
   "file_extension": ".py",
   "mimetype": "text/x-python",
   "name": "python",
   "nbconvert_exporter": "python",
   "pygments_lexer": "ipython3",
   "version": "3.11.7"
  }
 },
 "nbformat": 4,
 "nbformat_minor": 2
}
